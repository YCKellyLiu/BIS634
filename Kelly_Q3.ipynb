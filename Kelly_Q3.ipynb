{
 "cells": [
  {
   "cell_type": "code",
   "execution_count": 1,
   "metadata": {},
   "outputs": [],
   "source": [
    "import pandas as pd\n",
    "import matplotlib.pyplot as plt\n",
    "\n",
    "data = pd.read_csv(\"us-states.csv\")"
   ]
  },
  {
   "cell_type": "code",
   "execution_count": 2,
   "metadata": {},
   "outputs": [
    {
     "data": {
      "text/html": [
       "<div>\n",
       "<style scoped>\n",
       "    .dataframe tbody tr th:only-of-type {\n",
       "        vertical-align: middle;\n",
       "    }\n",
       "\n",
       "    .dataframe tbody tr th {\n",
       "        vertical-align: top;\n",
       "    }\n",
       "\n",
       "    .dataframe thead th {\n",
       "        text-align: right;\n",
       "    }\n",
       "</style>\n",
       "<table border=\"1\" class=\"dataframe\">\n",
       "  <thead>\n",
       "    <tr style=\"text-align: right;\">\n",
       "      <th></th>\n",
       "      <th>date</th>\n",
       "      <th>state</th>\n",
       "      <th>fips</th>\n",
       "      <th>cases</th>\n",
       "      <th>deaths</th>\n",
       "    </tr>\n",
       "  </thead>\n",
       "  <tbody>\n",
       "    <tr>\n",
       "      <th>0</th>\n",
       "      <td>2020-01-21</td>\n",
       "      <td>Washington</td>\n",
       "      <td>53</td>\n",
       "      <td>1</td>\n",
       "      <td>0</td>\n",
       "    </tr>\n",
       "    <tr>\n",
       "      <th>1</th>\n",
       "      <td>2020-01-22</td>\n",
       "      <td>Washington</td>\n",
       "      <td>53</td>\n",
       "      <td>1</td>\n",
       "      <td>0</td>\n",
       "    </tr>\n",
       "    <tr>\n",
       "      <th>2</th>\n",
       "      <td>2020-01-23</td>\n",
       "      <td>Washington</td>\n",
       "      <td>53</td>\n",
       "      <td>1</td>\n",
       "      <td>0</td>\n",
       "    </tr>\n",
       "    <tr>\n",
       "      <th>3</th>\n",
       "      <td>2020-01-24</td>\n",
       "      <td>Illinois</td>\n",
       "      <td>17</td>\n",
       "      <td>1</td>\n",
       "      <td>0</td>\n",
       "    </tr>\n",
       "    <tr>\n",
       "      <th>4</th>\n",
       "      <td>2020-01-24</td>\n",
       "      <td>Washington</td>\n",
       "      <td>53</td>\n",
       "      <td>1</td>\n",
       "      <td>0</td>\n",
       "    </tr>\n",
       "    <tr>\n",
       "      <th>...</th>\n",
       "      <td>...</td>\n",
       "      <td>...</td>\n",
       "      <td>...</td>\n",
       "      <td>...</td>\n",
       "      <td>...</td>\n",
       "    </tr>\n",
       "    <tr>\n",
       "      <th>30479</th>\n",
       "      <td>2021-09-07</td>\n",
       "      <td>Virginia</td>\n",
       "      <td>51</td>\n",
       "      <td>788917</td>\n",
       "      <td>11947</td>\n",
       "    </tr>\n",
       "    <tr>\n",
       "      <th>30480</th>\n",
       "      <td>2021-09-07</td>\n",
       "      <td>Washington</td>\n",
       "      <td>53</td>\n",
       "      <td>588803</td>\n",
       "      <td>6797</td>\n",
       "    </tr>\n",
       "    <tr>\n",
       "      <th>30481</th>\n",
       "      <td>2021-09-07</td>\n",
       "      <td>West Virginia</td>\n",
       "      <td>54</td>\n",
       "      <td>200308</td>\n",
       "      <td>3151</td>\n",
       "    </tr>\n",
       "    <tr>\n",
       "      <th>30482</th>\n",
       "      <td>2021-09-07</td>\n",
       "      <td>Wisconsin</td>\n",
       "      <td>55</td>\n",
       "      <td>746781</td>\n",
       "      <td>8539</td>\n",
       "    </tr>\n",
       "    <tr>\n",
       "      <th>30483</th>\n",
       "      <td>2021-09-07</td>\n",
       "      <td>Wyoming</td>\n",
       "      <td>56</td>\n",
       "      <td>78495</td>\n",
       "      <td>879</td>\n",
       "    </tr>\n",
       "  </tbody>\n",
       "</table>\n",
       "<p>30484 rows × 5 columns</p>\n",
       "</div>"
      ],
      "text/plain": [
       "             date          state  fips   cases  deaths\n",
       "0      2020-01-21     Washington    53       1       0\n",
       "1      2020-01-22     Washington    53       1       0\n",
       "2      2020-01-23     Washington    53       1       0\n",
       "3      2020-01-24       Illinois    17       1       0\n",
       "4      2020-01-24     Washington    53       1       0\n",
       "...           ...            ...   ...     ...     ...\n",
       "30479  2021-09-07       Virginia    51  788917   11947\n",
       "30480  2021-09-07     Washington    53  588803    6797\n",
       "30481  2021-09-07  West Virginia    54  200308    3151\n",
       "30482  2021-09-07      Wisconsin    55  746781    8539\n",
       "30483  2021-09-07        Wyoming    56   78495     879\n",
       "\n",
       "[30484 rows x 5 columns]"
      ]
     },
     "execution_count": 2,
     "metadata": {},
     "output_type": "execute_result"
    }
   ],
   "source": [
    "data"
   ]
  },
  {
   "cell_type": "code",
   "execution_count": 4,
   "metadata": {},
   "outputs": [],
   "source": [
    "#d1_transposed = data.T\n",
    "#print(d1_transposed,data.state)\n",
    "\n",
    "#data1=np.array(data)\n",
    "#print(data1)\n",
    "def case_date(state):\n",
    "    a = []\n",
    "    b = []\n",
    "    i = state\n",
    "    for i in data1:\n",
    "        if my_state[0]==i[1]:\n",
    "            print(i)\n",
    "            a.append(i)\n",
    "    print(a)\n",
    "            "
   ]
  },
  {
   "cell_type": "code",
   "execution_count": 5,
   "metadata": {},
   "outputs": [
    {
     "name": "stdout",
     "output_type": "stream",
     "text": [
      "             0           1           2           3           4      \\\n",
      "date    2020-01-21  2020-01-22  2020-01-23  2020-01-24  2020-01-24   \n",
      "state   Washington  Washington  Washington    Illinois  Washington   \n",
      "fips            53          53          53          17          53   \n",
      "cases            1           1           1           1           1   \n",
      "deaths           0           0           0           0           0   \n",
      "\n",
      "             5           6           7           8           9      ...  \\\n",
      "date    2020-01-25  2020-01-25  2020-01-25  2020-01-26  2020-01-26  ...   \n",
      "state   California    Illinois  Washington     Arizona  California  ...   \n",
      "fips             6          17          53           4           6  ...   \n",
      "cases            1           1           1           1           2  ...   \n",
      "deaths           0           0           0           0           0  ...   \n",
      "\n",
      "             30474       30475       30476       30477           30478  \\\n",
      "date    2021-09-07  2021-09-07  2021-09-07  2021-09-07      2021-09-07   \n",
      "state    Tennessee       Texas        Utah     Vermont  Virgin Islands   \n",
      "fips            47          48          49          50              78   \n",
      "cases      1085109     3710719      474169       29325            6071   \n",
      "deaths       13612       58788        2685         282              62   \n",
      "\n",
      "             30479       30480          30481       30482       30483  \n",
      "date    2021-09-07  2021-09-07     2021-09-07  2021-09-07  2021-09-07  \n",
      "state     Virginia  Washington  West Virginia   Wisconsin     Wyoming  \n",
      "fips            51          53             54          55          56  \n",
      "cases       788917      588803         200308      746781       78495  \n",
      "deaths       11947        6797           3151        8539         879  \n",
      "\n",
      "[5 rows x 30484 columns]\n"
     ]
    }
   ],
   "source": [
    "#d1 = data transposed\n",
    "d1 = data.T\n",
    "print(d1)"
   ]
  },
  {
   "cell_type": "code",
   "execution_count": 18,
   "metadata": {},
   "outputs": [],
   "source": [
    "def case_date(state):\n",
    "    for i in range(0,len(my_state)):\n",
    "        a=[]\n",
    "        b=[]\n",
    "        for j in range(0,30484):\n",
    "            if my_state[i]==d1[j].state:\n",
    "                a.append(d1[j].cases)\n",
    "                b.append(d1[j].date)\n",
    "        \n",
    "        plt.plot(b,a)\n",
    "        plt.legend(my_state, loc='lower right')\n"
   ]
  },
  {
   "cell_type": "code",
   "execution_count": 19,
   "metadata": {},
   "outputs": [
    {
     "data": {
      "image/png": "[encoded data removed]",
      "text/plain": [
       "<Figure size 432x288 with 1 Axes>"
      ]
     },
     "metadata": {
      "needs_background": "light"
     },
     "output_type": "display_data"
    }
   ],
   "source": [
    "my_state = ['Washington','Illinois','Virginia' ]\n",
    "case_date(my_state)"
   ]
  },
  {
   "cell_type": "code",
   "execution_count": 47,
   "metadata": {},
   "outputs": [],
   "source": [
    "def highest_new_cases(state):\n",
    "    case=[]\n",
    "    date=[]\n",
    "    for i in range(0,30484):\n",
    "        if state==d1[i].state:\n",
    "            case.append(d1[i].cases)\n",
    "            date.append(d1[i].date)\n",
    "    case_increase=[]\n",
    "    for j in range(0,len(case)):\n",
    "        case_increase.append(case[j]-case[j-1])\n",
    "    for k in range (0,len(case_increase)):\n",
    "        if case_increase[k] ==max(case_increase):\n",
    "            return date[k]\n",
    "        \n",
    "        \n",
    "    "
   ]
  },
  {
   "cell_type": "code",
   "execution_count": 50,
   "metadata": {},
   "outputs": [
    {
     "data": {
      "text/plain": [
       "'2021-09-07'"
      ]
     },
     "execution_count": 50,
     "metadata": {},
     "output_type": "execute_result"
    }
   ],
   "source": [
    "highest_new_cases(\"Washington\")"
   ]
  },
  {
   "cell_type": "code",
   "execution_count": 61,
   "metadata": {},
   "outputs": [],
   "source": [
    "from dateutil.parser import parse as parse_date\n",
    "def highest_number_cases_first(state1,state2):\n",
    "    date1=parse_date(highest_new_cases(state1))\n",
    "    date2=parse_date(highest_new_cases(state2))\n",
    "    if (date1 - date2).days>0:\n",
    "        print(f'{state1} had its highest number of cases about {(date1 - date2).days} days before {state2}')\n",
    "    else:\n",
    "        print(f'{state2} had its highest number of cases about {(date2 - date1).days} days before {state1}')\n",
    "    \n",
    "    "
   ]
  },
  {
   "cell_type": "code",
   "execution_count": 63,
   "metadata": {},
   "outputs": [
    {
     "name": "stdout",
     "output_type": "stream",
     "text": [
      "Washington had its highest number of cases about 298 days before Illinois\n"
     ]
    }
   ],
   "source": [
    "highest_number_cases_first(\"Washington\",\"Illinois\")"
   ]
  },
  {
   "cell_type": "code",
   "execution_count": null,
   "metadata": {},
   "outputs": [],
   "source": []
  }
 ],
 "metadata": {
  "kernelspec": {
   "display_name": "Python 3",
   "language": "python",
   "name": "python3"
  },
  "language_info": {
   "codemirror_mode": {
    "name": "ipython",
    "version": 3
   },
   "file_extension": ".py",
   "mimetype": "text/x-python",
   "name": "python",
   "nbconvert_exporter": "python",
   "pygments_lexer": "ipython3",
   "version": "3.8.5"
  }
 },
 "nbformat": 4,
 "nbformat_minor": 4
}
