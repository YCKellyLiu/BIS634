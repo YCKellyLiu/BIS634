{
 "cells": [
  {
   "cell_type": "code",
   "execution_count": 7,
   "id": "15e66f61",
   "metadata": {},
   "outputs": [],
   "source": [
    "class Tree:\n",
    "    def __init__(self, value=None):\n",
    "        self.value = value\n",
    "        self.left = None\n",
    "        self.right = None\n",
    "\n",
    "    def add(self, item):\n",
    "        if self.value is None:\n",
    "            self.value = item\n",
    "        elif item < self.value:\n",
    "            if self.left:\n",
    "                self.left.add(item)\n",
    "            else:\n",
    "                self.left = Tree(item)\n",
    "        elif item > self.value:\n",
    "            if self.right:\n",
    "                self.right.add(item)\n",
    "            else:\n",
    "                self.right = Tree(item)\n",
    "\n",
    "    def __contains__(self, item):\n",
    "        if self.value == item:\n",
    "            return True\n",
    "        elif self.left and item < self.value:\n",
    "            return item in self.left\n",
    "        elif self.right and item > self.value:\n",
    "            return item in self.right\n",
    "        else:\n",
    "            return False"
   ]
  },
  {
   "cell_type": "markdown",
   "id": "fa11a5e7",
   "metadata": {},
   "source": [
    "Replace the contains method of the tree with the following __contains__ method. The change in name will allow you to use the in operator; e.g. after this change, 55 in my_tree should be True in the above example, whereas 42 in my_tree would be False. Test this."
   ]
  },
  {
   "cell_type": "code",
   "execution_count": 8,
   "id": "36a1602a",
   "metadata": {},
   "outputs": [
    {
     "name": "stdout",
     "output_type": "stream",
     "text": [
      "True\n",
      "False\n",
      "True\n",
      "False\n"
     ]
    }
   ],
   "source": [
    "import random\n",
    "my_tree = Tree()\n",
    "test_tree = [55, 62, 37, 49, 71, 14, 17]\n",
    "for item in test_tree:\n",
    "    my_tree.add(item)\n",
    "print(55 in my_tree)\n",
    "print(42 in my_tree)\n",
    "print(71 in my_tree)\n",
    "print(4 in my_tree)"
   ]
  },
  {
   "cell_type": "markdown",
   "id": "7d57e03f",
   "metadata": {},
   "source": [
    "Using various sizes n of trees (populated with random data) and sufficiently many calls to in (each individual call should be very fast, so you may have to run many repeated tests), demonstrate that in is executing in O(log n) times; on a log-log plot, for sufficiently large n, the graph of time required for checking if a number is in the tree as a function of n should be almost horizontal. (5 points)."
   ]
  },
  {
   "cell_type": "code",
   "execution_count": 4,
   "id": "dd220931",
   "metadata": {},
   "outputs": [],
   "source": [
    "import random\n",
    "import time\n",
    "import matplotlib.pyplot as plt"
   ]
  },
  {
   "cell_type": "code",
   "execution_count": 9,
   "id": "df2f2226",
   "metadata": {},
   "outputs": [],
   "source": [
    "time_per_test = []\n",
    "n_samples = 1000\n",
    "repeat_times = 100\n",
    "for _ in range(n_samples):\n",
    "    n = random.randint(0, 10000)\n",
    "    my_tree = Tree()\n",
    "    for _ in range(n):\n",
    "        my_tree.add(random.random())\n",
    "    start = time.time()\n",
    "    for _ in range(repeat_times):\n",
    "        my_tree.__contains__(random.random())\n",
    "    end = time.time()\n",
    "    time_per_test.append((end - start, n))"
   ]
  },
  {
   "cell_type": "code",
   "execution_count": 11,
   "id": "997e6c4c",
   "metadata": {},
   "outputs": [
    {
     "data": {
      "image/png": "[encoded data removed]",
      "text/plain": [
       "<Figure size 432x288 with 1 Axes>"
      ]
     },
     "metadata": {
      "needs_background": "light"
     },
     "output_type": "display_data"
    }
   ],
   "source": [
    "plt.scatter([x[1] for x in time_per_test], [x[0] for x in time_per_test], s=1)\n",
    "plt.show()"
   ]
  },
  {
   "cell_type": "markdown",
   "id": "29be0b4c",
   "metadata": {},
   "source": [
    "As shown in the above plot, the in is executing in O(log n) times."
   ]
  },
  {
   "cell_type": "markdown",
   "id": "7f5bca4e",
   "metadata": {},
   "source": [
    "This speed is not free. Provide supporting evidence that the time to setup the tree is O(n log n) by timing it for various sized ns and showing that the runtime lies between a curve that is O(n) and one that is O(n**2). (5 points)"
   ]
  },
  {
   "cell_type": "markdown",
   "id": "f8f2b0f6",
   "metadata": {},
   "source": [
    "This way is to draw two graphs of extream situation,O(n) and O(n**2), which means that the runtime must lie between those two curves. "
   ]
  },
  {
   "cell_type": "markdown",
   "id": "8570e51e",
   "metadata": {},
   "source": [
    "If the input secquence is random enough, the tree is almost balanced and the setup time is O(n), as shown below"
   ]
  },
  {
   "cell_type": "code",
   "execution_count": 12,
   "id": "8c42d0e5",
   "metadata": {},
   "outputs": [
    {
     "data": {
      "image/png": "[encoded data removed]",
      "text/plain": [
       "<Figure size 432x288 with 1 Axes>"
      ]
     },
     "metadata": {
      "needs_background": "light"
     },
     "output_type": "display_data"
    }
   ],
   "source": [
    "time_per_test = []\n",
    "n_samples = 100\n",
    "repeat_times = 10\n",
    "for _ in range(n_samples):\n",
    "    n = random.randint(0, 10000)\n",
    "    secquence = [random.random() for _ in range(n)]\n",
    "    start = time.time()\n",
    "    for _ in range(repeat_times):\n",
    "        my_tree = Tree()\n",
    "        for i in secquence:\n",
    "            my_tree.add(i)\n",
    "    end = time.time()\n",
    "    time_per_test.append((end - start, n))\n",
    "\n",
    "plt.scatter([x[1] for x in time_per_test], [x[0] for x in time_per_test], s=1)\n",
    "plt.show()"
   ]
  },
  {
   "cell_type": "markdown",
   "id": "cccf73f9",
   "metadata": {},
   "source": [
    "However, if the input is inversely sorted, than the setup time is O(n**2)"
   ]
  },
  {
   "cell_type": "code",
   "execution_count": 13,
   "id": "5b039094",
   "metadata": {},
   "outputs": [
    {
     "data": {
      "image/png": "[encoded data removed]",
      "text/plain": [
       "<Figure size 432x288 with 1 Axes>"
      ]
     },
     "metadata": {
      "needs_background": "light"
     },
     "output_type": "display_data"
    }
   ],
   "source": [
    "time_per_test = []\n",
    "n_samples = 100\n",
    "repeat_times = 10\n",
    "for _ in range(n_samples):\n",
    "    n = random.randint(0, 200)\n",
    "    secquence = [random.random() for _ in range(n)]\n",
    "    secquence = sorted(secquence)\n",
    "    start = time.time()\n",
    "    for _ in range(repeat_times):\n",
    "        my_tree = Tree()\n",
    "        for i in secquence:\n",
    "            my_tree.add(i)\n",
    "    end = time.time()\n",
    "    time_per_test.append((end - start, n))\n",
    "\n",
    "plt.scatter([x[1] for x in time_per_test], [x[0] for x in time_per_test], s=1)\n",
    "plt.show()"
   ]
  },
  {
   "cell_type": "markdown",
   "id": "2b7d6bc8",
   "metadata": {},
   "source": [
    "If I create a function and put actual time spend, n**2, and n in one graph."
   ]
  },
  {
   "cell_type": "code",
   "execution_count": 13,
   "id": "5188300c",
   "metadata": {},
   "outputs": [],
   "source": [
    "def timefunc(n):\n",
    "    times = []\n",
    "    n = [random.randint(1,n) for _ in range(n)]\n",
    "    for attempt in [i for i in range(100)]:\n",
    "        start = time.time\n",
    "        my_tree = Tree()\n",
    "        for item in n:\n",
    "            my_tree.add(item)\n",
    "        end = time.time()\n",
    "        times.append(end - start)\n",
    "    return min(times)"
   ]
  },
  {
   "cell_type": "code",
   "execution_count": 14,
   "id": "9f838afd",
   "metadata": {},
   "outputs": [
    {
     "data": {
      "image/png": "[encoded data removed]",
      "text/plain": [
       "<Figure size 432x288 with 1 Axes>"
      ]
     },
     "metadata": {
      "needs_background": "light"
     },
     "output_type": "display_data"
    }
   ],
   "source": [
    "ns = [1,100,1000,10000] #Select different n size\n",
    "actual = [timefunc(n) for n in ns]\n",
    "s = actual [0]\n",
    "quadratic = [s*n**2 for n in ns] \n",
    "linear = [s*n for n in ns]\n",
    "plt.plot(ns,actual)\n",
    "plt.plot(ns,quadratic)\n",
    "plt.plot(ns,linear)\n",
    "plt.xscale('log')\n",
    "plt.yscale('log')\n",
    "plt.ylabel('time')\n",
    "plt.xlabel('n_size')\n",
    "plt.legend(['actual','n^2','n'],loc = 'upper left')\n",
    "plt.show()"
   ]
  },
  {
   "cell_type": "markdown",
   "id": "de03e046",
   "metadata": {},
   "source": [
    "As we can see from the above graph, the actual running time lies between O (n**2) and O (n). "
   ]
  }
 ],
 "metadata": {
  "kernelspec": {
   "display_name": "Python 3",
   "language": "python",
   "name": "python3"
  },
  "language_info": {
   "codemirror_mode": {
    "name": "ipython",
    "version": 3
   },
   "file_extension": ".py",
   "mimetype": "text/x-python",
   "name": "python",
   "nbconvert_exporter": "python",
   "pygments_lexer": "ipython3",
   "version": "3.8.8"
  }
 },
 "nbformat": 4,
 "nbformat_minor": 5
}
