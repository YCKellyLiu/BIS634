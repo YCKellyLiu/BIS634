{
 "cells": [
  {
   "cell_type": "markdown",
   "metadata": {},
   "source": [
    "Perform any necessary data cleaning (e.g. you'll probably want to get rid of the numbers in e.g. \"Connecticut(7)\" which refer to data source information as well as remove lines that aren't part of the table). Include the cleaned CSV file in your homework submission, and make sure your readme includes a citation of where the original data came from and how you changed the csv file. (5 points)"
   ]
  },
  {
   "cell_type": "code",
   "execution_count": 1,
   "metadata": {},
   "outputs": [],
   "source": [
    "import pandas as pd\n",
    "import numpy as np\n",
    "import csv"
   ]
  },
  {
   "cell_type": "code",
   "execution_count": 1,
   "metadata": {},
   "outputs": [],
   "source": [
    "#select the rows with over 10 elements using csv lib.\n",
    "with open('./new_incd.csv','w',encoding='utf8',newline='') as writer:\n",
    "    csv_writer = csv.writer(writer,)\n",
    "    with open('./incd.csv',newline='') as f:\n",
    "        data = csv.reader(f)\n",
    "    # data = pd.read_csv('./incd.csv')\n",
    "        for i in data:\n",
    "            if len(i) > 10: #The useful data begins at row 10. \n",
    "                if i[0][-3]=='(' and i[0][-1] == ')':\n",
    "                    i[0] = i[0][:-3]\n",
    "                csv_writer.writerow(i)\n",
    "#column names need to be cleaned by hands\n"
   ]
  },
  {
   "cell_type": "markdown",
   "metadata": {},
   "source": [
    "Citation: The original data came from \"https://statecancerprofiles.cancer.gov/incidencerates/index.php?stateFIPS=00&areatype=state&cancer=001&race=00&sex=0&age=001&stage=999&year=0&type=incd&sortVariableName=name&sortOrder=asc#results\" 1)download the data from above address 2)create a new .csv file to save the cleaned data: \"new_incd.csv\" file 3)set a number 10 to select the rows, because the useful data has over 10 dims 4)get rid of the numbers in e.g.\"Connecticut(7)\": manually delete numbers, '(', and ')'. 5)manually organize the names of the columns."
   ]
  },
  {
   "cell_type": "code",
   "execution_count": 1,
   "metadata": {
    "scrolled": true
   },
   "outputs": [
    {
     "name": "stdout",
     "output_type": "stream",
     "text": [
      " * Serving Flask app \"__main__\" (lazy loading)\n",
      " * Environment: production\n",
      "\u001b[31m   WARNING: This is a development server. Do not use it in a production deployment.\u001b[0m\n",
      "\u001b[2m   Use a production WSGI server instead.\u001b[0m\n",
      " * Debug mode: off\n"
     ]
    },
    {
     "name": "stderr",
     "output_type": "stream",
     "text": [
      " * Running on http://localhost:5000/ (Press CTRL+C to quit)\n",
      "127.0.0.1 - - [01/Dec/2021 15:13:31] \"\u001b[37mGET / HTTP/1.1\u001b[0m\" 200 -\n",
      "127.0.0.1 - - [01/Dec/2021 15:13:54] \"\u001b[37mGET /info?state_name=New%20York HTTP/1.1\u001b[0m\" 200 -\n",
      "127.0.0.1 - - [01/Dec/2021 15:13:54] \"\u001b[37mGET /?state_name=New+York HTTP/1.1\u001b[0m\" 200 -\n",
      "127.0.0.1 - - [01/Dec/2021 15:14:56] \"\u001b[37mGET /?state_name=kk HTTP/1.1\u001b[0m\" 200 -\n",
      "127.0.0.1 - - [01/Dec/2021 15:14:56] \"\u001b[33mGET /info?state_name=kk HTTP/1.1\u001b[0m\" 404 -\n",
      "127.0.0.1 - - [01/Dec/2021 15:15:00] \"\u001b[33mGET /info?state_name=nl HTTP/1.1\u001b[0m\" 404 -\n",
      "127.0.0.1 - - [01/Dec/2021 15:15:00] \"\u001b[37mGET /?state_name=nl HTTP/1.1\u001b[0m\" 200 -\n"
     ]
    }
   ],
   "source": [
    "from flask import Flask,redirect,url_for,request,send_file,render_template\n",
    "import pandas as pd\n",
    "data = pd.read_csv('./new_incd.csv')\n",
    "temp_states= list(data['State'].str.upper())\n",
    "for i in range(len(temp_states)):\n",
    "    temp_states[i] = temp_states[i].replace(\" \",\"\")\n",
    "\n",
    "app = Flask(__name__, template_folder='./templates')\n",
    "\n",
    "@app.route('/')\n",
    "def index():\n",
    "    return render_template('homepage.html')\n",
    "    \n",
    "@app.route('/state/<string:name>')\n",
    "def search_state(name):\n",
    "    state_name = name.replace(\" \",\"\").upper()\n",
    "    if state_name.upper() in temp_states:\n",
    "        index = temp_states.index(state_name.upper())\n",
    "        aair = data.iloc[index,:][\"Age-Adjusted Incidence rate (cases per 100K)\"]\n",
    "        return {\"State\":str(data.loc[index,'State']),\"Age-Adjusted Incidence rate (cases per 100K)\":\n",
    "                str(aair)}\n",
    "    else:\n",
    "        return render_template('errorpage.html'),404\n",
    "    \n",
    "@app.route('/info',methods=[\"GET\"])\n",
    "def info():\n",
    "    if request.method == 'GET':\n",
    "        if request.args.get('state_name'):\n",
    "            ori_state_name = request.args.get('state_name')\n",
    "            state_name = ori_state_name.replace(\" \",\"\").upper()\n",
    "            if state_name.upper() in temp_states:\n",
    "                index = temp_states.index(state_name.upper())\n",
    "                aair = data.iloc[index,:][\"Age-Adjusted Incidence rate (cases per 100K)\"]\n",
    "                return {\"State\":str(data.loc[index,'State']),\"Age-Adjusted Incidence rate (cases per 100K)\":\n",
    "                        str(aair)}\n",
    "            else:\n",
    "                return render_template('errorpage.html'),404\n",
    "\n",
    "        else:\n",
    "            return render_template('errorpage.html'),404\n",
    "    else:\n",
    "        return render_template('errorpage.html'),404\n",
    "    return render_template('errorpage.html'),404\n",
    "if __name__=='__main__':\n",
    "    app.run(host=\"localhost\")\n",
    "    \n",
    "#Readme\n",
    "# 1)include two .html files (homepage.html and errorpage.html)\n",
    "# 2)Searching for state names is not case-sensitive and space-insensitive\n",
    "# 3)test:\n",
    "# http://localhost:5000/\n",
    "# return {\"Age-Adjusted Incidence rate (cases per 100K)\":\"517.8\",\"State\":\"Kentucky\"}\n",
    "\n",
    "# http://localhost:5000/state/Kentucky\n",
    "# return {\"Age-Adjusted Incidence rate (cases per 100K)\":\"517.8\",\"State\":\"Kentucky\"}\n",
    "\n",
    "# http://localhost:5000/info?state_name=Kentucky\n",
    "# return {\"Age-Adjusted Incidence rate (cases per 100K)\":\"517.8\",\"State\":\"Kentucky\"}"
   ]
  },
  {
   "cell_type": "markdown",
   "metadata": {},
   "source": [
    "You've now completed most of this course, so you're now qualified to choose the next step. Take this exercise one step beyond that which is described above in a way that you think is appropriate, and discuss your extension in your readme. (e.g. you might show maps, or provide more data, or use CSS/JS to make the page prettier or more interactive, or use a database, or...) See the style.css file. "
   ]
  }
 ],
 "metadata": {
  "kernelspec": {
   "display_name": "Python 3",
   "language": "python",
   "name": "python3"
  },
  "language_info": {
   "codemirror_mode": {
    "name": "ipython",
    "version": 3
   },
   "file_extension": ".py",
   "mimetype": "text/x-python",
   "name": "python",
   "nbconvert_exporter": "python",
   "pygments_lexer": "ipython3",
   "version": "3.8.8"
  }
 },
 "nbformat": 4,
 "nbformat_minor": 4
}
