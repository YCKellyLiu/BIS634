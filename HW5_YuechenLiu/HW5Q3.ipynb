{
 "cells": [
  {
   "cell_type": "code",
   "execution_count": 1,
   "metadata": {},
   "outputs": [],
   "source": [
    "import pandas as pd\n",
    "from sklearn import decomposition\n",
    "import numpy as np\n",
    "import matplotlib.pyplot as plt\n",
    "from sklearn.metrics import confusion_matrix\n",
    "from sklearn.model_selection import cross_val_score, cross_val_predict, cross_validate\n"
   ]
  },
  {
   "cell_type": "code",
   "execution_count": 2,
   "metadata": {},
   "outputs": [],
   "source": [
    "data = pd.read_excel('/Users/ycliu/Desktop/Rice_Osmancik_Cammeo_Dataset.xlsx', engine='openpyxl')"
   ]
  },
  {
   "cell_type": "markdown",
   "metadata": {},
   "source": [
    "# Normalize the data"
   ]
  },
  {
   "cell_type": "code",
   "execution_count": 3,
   "metadata": {},
   "outputs": [],
   "source": [
    "for c in data.columns[:-1]:\n",
    "    data[c] = (data[c] - np.mean(data[c])) / np.std(data[c])"
   ]
  },
  {
   "cell_type": "code",
   "execution_count": 4,
   "metadata": {},
   "outputs": [
    {
     "data": {
      "text/html": [
       "<div>\n",
       "<style scoped>\n",
       "    .dataframe tbody tr th:only-of-type {\n",
       "        vertical-align: middle;\n",
       "    }\n",
       "\n",
       "    .dataframe tbody tr th {\n",
       "        vertical-align: top;\n",
       "    }\n",
       "\n",
       "    .dataframe thead th {\n",
       "        text-align: right;\n",
       "    }\n",
       "</style>\n",
       "<table border=\"1\" class=\"dataframe\">\n",
       "  <thead>\n",
       "    <tr style=\"text-align: right;\">\n",
       "      <th></th>\n",
       "      <th>AREA</th>\n",
       "      <th>PERIMETER</th>\n",
       "      <th>MAJORAXIS</th>\n",
       "      <th>MINORAXIS</th>\n",
       "      <th>ECCENTRICITY</th>\n",
       "      <th>CONVEX_AREA</th>\n",
       "      <th>EXTENT</th>\n",
       "      <th>CLASS</th>\n",
       "    </tr>\n",
       "  </thead>\n",
       "  <tbody>\n",
       "    <tr>\n",
       "      <th>0</th>\n",
       "      <td>1.479830</td>\n",
       "      <td>2.004354</td>\n",
       "      <td>2.348547</td>\n",
       "      <td>-0.212943</td>\n",
       "      <td>2.018337</td>\n",
       "      <td>1.499659</td>\n",
       "      <td>-1.152921</td>\n",
       "      <td>Cammeo</td>\n",
       "    </tr>\n",
       "    <tr>\n",
       "      <th>1</th>\n",
       "      <td>1.147870</td>\n",
       "      <td>1.125853</td>\n",
       "      <td>0.988390</td>\n",
       "      <td>0.945568</td>\n",
       "      <td>0.410018</td>\n",
       "      <td>1.192918</td>\n",
       "      <td>-0.602079</td>\n",
       "      <td>Cammeo</td>\n",
       "    </tr>\n",
       "    <tr>\n",
       "      <th>2</th>\n",
       "      <td>1.135169</td>\n",
       "      <td>1.317214</td>\n",
       "      <td>1.451908</td>\n",
       "      <td>0.253887</td>\n",
       "      <td>1.212956</td>\n",
       "      <td>1.126504</td>\n",
       "      <td>0.405611</td>\n",
       "      <td>Cammeo</td>\n",
       "    </tr>\n",
       "    <tr>\n",
       "      <th>3</th>\n",
       "      <td>0.293436</td>\n",
       "      <td>0.115300</td>\n",
       "      <td>0.261439</td>\n",
       "      <td>0.198051</td>\n",
       "      <td>0.239751</td>\n",
       "      <td>0.233857</td>\n",
       "      <td>-0.275351</td>\n",
       "      <td>Cammeo</td>\n",
       "    </tr>\n",
       "    <tr>\n",
       "      <th>4</th>\n",
       "      <td>1.166345</td>\n",
       "      <td>1.487053</td>\n",
       "      <td>1.316442</td>\n",
       "      <td>0.523419</td>\n",
       "      <td>0.952221</td>\n",
       "      <td>1.299855</td>\n",
       "      <td>-0.206013</td>\n",
       "      <td>Cammeo</td>\n",
       "    </tr>\n",
       "  </tbody>\n",
       "</table>\n",
       "</div>"
      ],
      "text/plain": [
       "       AREA  PERIMETER  MAJORAXIS  MINORAXIS  ECCENTRICITY  CONVEX_AREA  \\\n",
       "0  1.479830   2.004354   2.348547  -0.212943      2.018337     1.499659   \n",
       "1  1.147870   1.125853   0.988390   0.945568      0.410018     1.192918   \n",
       "2  1.135169   1.317214   1.451908   0.253887      1.212956     1.126504   \n",
       "3  0.293436   0.115300   0.261439   0.198051      0.239751     0.233857   \n",
       "4  1.166345   1.487053   1.316442   0.523419      0.952221     1.299855   \n",
       "\n",
       "     EXTENT   CLASS  \n",
       "0 -1.152921  Cammeo  \n",
       "1 -0.602079  Cammeo  \n",
       "2  0.405611  Cammeo  \n",
       "3 -0.275351  Cammeo  \n",
       "4 -0.206013  Cammeo  "
      ]
     },
     "execution_count": 4,
     "metadata": {},
     "output_type": "execute_result"
    }
   ],
   "source": [
    "data.head()"
   ]
  },
  {
   "cell_type": "code",
   "execution_count": 5,
   "metadata": {},
   "outputs": [
    {
     "data": {
      "text/plain": [
       "CLASS\n",
       "Osmancik    2180\n",
       "Cammeo      1630\n",
       "dtype: int64"
      ]
     },
     "execution_count": 5,
     "metadata": {},
     "output_type": "execute_result"
    }
   ],
   "source": [
    "data.value_counts('CLASS')"
   ]
  },
  {
   "cell_type": "markdown",
   "metadata": {},
   "source": [
    "# PCA"
   ]
  },
  {
   "cell_type": "code",
   "execution_count": 6,
   "metadata": {},
   "outputs": [],
   "source": [
    "pca = decomposition.PCA(n_components=2)\n",
    "data_reduced = pca.fit_transform(data[[\n",
    "    'AREA',\n",
    "    'PERIMETER',\n",
    "    'MAJORAXIS',\n",
    "    'ECCENTRICITY',\n",
    "    'CONVEX_AREA',\n",
    "    'EXTENT'\n",
    "    ]])\n",
    "pc0 = data_reduced[:, 0]\n",
    "pc1 = data_reduced[:, 1]"
   ]
  },
  {
   "cell_type": "code",
   "execution_count": 7,
   "metadata": {
    "scrolled": true
   },
   "outputs": [
    {
     "data": {
      "image/png": "[encoded data removed]",
      "text/plain": [
       "<Figure size 432x288 with 1 Axes>"
      ]
     },
     "metadata": {
      "needs_background": "light"
     },
     "output_type": "display_data"
    }
   ],
   "source": [
    "plt.scatter(pc0, pc1, \n",
    "    c=data.CLASS.map({'Osmancik': 0, 'Cammeo': 1}),\n",
    "    s=1, cmap='Set1')\n",
    "plt.show()"
   ]
  },
  {
   "cell_type": "markdown",
   "metadata": {},
   "source": [
    "The PCA model is able to reduce the dimensionality of the data to 2. The gaussion distance of two samples seems to be small if they belong to the same class."
   ]
  },
  {
   "cell_type": "markdown",
   "metadata": {},
   "source": [
    "# Implementation of the KNN algorithm and Quad Tree"
   ]
  },
  {
   "cell_type": "markdown",
   "metadata": {},
   "source": [
    "Citation: https://cloud.tencent.com/developer/article/1487842\n",
    "https://scipython.com/blog/quadtrees-2-implementation-in-python/\n",
    "https://jrtechs.net/data-science/implementing-a-quadtree-in-python"
   ]
  },
  {
   "cell_type": "code",
   "execution_count": 8,
   "metadata": {},
   "outputs": [],
   "source": [
    "class Point: #the points in the training set\n",
    "    def __init__(self, x, y, payload=None):\n",
    "        self.x, self.y = x, y\n",
    "        self.payload = payload\n",
    "\n",
    "    def distance_to(self, other):\n",
    "        try:\n",
    "            other_x, other_y = other.x, other.y\n",
    "        except AttributeError:\n",
    "            other_x, other_y = other\n",
    "        return np.hypot(self.x - other_x, self.y - other_y)\n",
    "\n",
    "class Rect: #Rectangular store the shape and other attribute of the quadtree\n",
    "    #cx: center point x-axis\n",
    "    #cy: center point y-axis\n",
    "    #w: the width of the rectangular\n",
    "    #h: the height of the rectangular\n",
    "    def __init__(self, cx, cy, w, h):\n",
    "        self.cx, self.cy = cx, cy\n",
    "        self.w, self.h = w, h\n",
    "        self.west_edge, self.east_edge = cx - w/2, cx + w/2\n",
    "        self.north_edge, self.south_edge = cy - h/2, cy + h/2\n",
    "\n",
    "    def contains(self, point): #validate if a point is inside of the rectangular\n",
    "        try:\n",
    "            point_x, point_y = point.x, point.y\n",
    "        except AttributeError:\n",
    "            point_x, point_y = point\n",
    "\n",
    "        return (point_x >= self.west_edge and\n",
    "                point_x <  self.east_edge and\n",
    "                point_y >= self.north_edge and\n",
    "                point_y < self.south_edge)\n",
    "\n",
    "    def intersects(self, other):#validate if the rectangular is in the center and the radius\n",
    "        return not (other.west_edge > self.east_edge or\n",
    "                    other.east_edge < self.west_edge or\n",
    "                    other.north_edge > self.south_edge or\n",
    "                    other.south_edge < self.north_edge)\n",
    "\n",
    "class QuadTree:\n",
    "    #A class implementing a quadtree.\n",
    "    #boundary: the rectangular that store the shape and cneter\n",
    "    #depth: the max number of points can be stored in this quad tree\n",
    "\n",
    "    def __init__(self, boundary, max_points=4, depth=0):\n",
    "        self.boundary = boundary\n",
    "        self.max_points = max_points\n",
    "        self.points = []\n",
    "        self.depth = depth\n",
    "        self.divided = False\n",
    "\n",
    "    def divide(self): #divide the quad tree into 4 sub quadtree \n",
    "        cx, cy = self.boundary.cx, self.boundary.cy\n",
    "        w, h = self.boundary.w / 2, self.boundary.h / 2\n",
    "        self.nw = QuadTree(Rect(cx - w/2, cy - h/2, w, h),\n",
    "                                    self.max_points, self.depth + 1)\n",
    "        self.ne = QuadTree(Rect(cx + w/2, cy - h/2, w, h),\n",
    "                                    self.max_points, self.depth + 1)\n",
    "        self.se = QuadTree(Rect(cx + w/2, cy + h/2, w, h),\n",
    "                                    self.max_points, self.depth + 1)\n",
    "        self.sw = QuadTree(Rect(cx - w/2, cy + h/2, w, h),\n",
    "                                    self.max_points, self.depth + 1)\n",
    "        self.divided = True\n",
    "\n",
    "    def insert(self, point): #insert the points into the sub quadtree.\n",
    "        if not self.boundary.contains(point):\n",
    "            # The point does not lie inside boundary: bail.\n",
    "            return False\n",
    "        if len(self.points) < self.max_points:\n",
    "            # There's room for our point without dividing the QuadTree.\n",
    "            self.points.append(point)\n",
    "            return True\n",
    "\n",
    "        # No room: divide if necessary, then try the sub-quads.\n",
    "        if not self.divided:\n",
    "            self.divide()\n",
    "\n",
    "        return (self.ne.insert(point) or\n",
    "                self.nw.insert(point) or\n",
    "                self.se.insert(point) or\n",
    "                self.sw.insert(point))\n",
    "\n",
    "    def query_circle(self, boundary, centre, radius, found_points):\n",
    "        \"\"\"Find the points in the quadtree that lie within radius of centre.\n",
    "\n",
    "        boundary is a Rect object (a square) that bounds the search circle.\n",
    "        There is no need to call this method directly: use query_radius.\n",
    "\n",
    "        \"\"\"\n",
    "\n",
    "        if not self.boundary.intersects(boundary):\n",
    "            # If the domain of this node does not intersect the search\n",
    "            # region, we don't need to look in it for points.\n",
    "            return False\n",
    "\n",
    "        # Search this node's points to see if they lie within boundary\n",
    "        # and also lie within a circle of given radius around the centre point.\n",
    "        for point in self.points:\n",
    "            if (boundary.contains(point) and\n",
    "                    point.distance_to(centre) <= radius):\n",
    "                found_points.append(point)\n",
    "\n",
    "        # Recurse the search into this node's children.\n",
    "        if self.divided:\n",
    "            self.nw.query_circle(boundary, centre, radius, found_points)\n",
    "            self.ne.query_circle(boundary, centre, radius, found_points)\n",
    "            self.se.query_circle(boundary, centre, radius, found_points)\n",
    "            self.sw.query_circle(boundary, centre, radius, found_points)\n",
    "        return found_points\n",
    "\n",
    "    def query_radius(self, centre, radius, found_points):\n",
    "        \"\"\"Find the points in the quadtree that lie within radius of centre.\"\"\"\n",
    "\n",
    "        boundary = Rect(*centre, 2*radius, 2*radius)\n",
    "        return self.query_circle(boundary, centre, radius, found_points)\n",
    "\n",
    "\n",
    "    def __len__(self):\n",
    "        npoints = len(self.points)\n",
    "        if self.divided:\n",
    "            npoints += len(self.nw)+len(self.ne)+len(self.se)+len(self.sw)\n",
    "        return npoints"
   ]
  },
  {
   "cell_type": "code",
   "execution_count": 9,
   "metadata": {},
   "outputs": [],
   "source": [
    "class KNN(): #K Neaarest Neighbor algorithm\n",
    "    def __init__(self, k = 1) -> None:\n",
    "        self.qtree = QuadTree(Rect(0, 0, 25, 25))\n",
    "        self.k = k\n",
    "        self.pca = decomposition.PCA(n_components=2)\n",
    "\n",
    "    def fit(self, X, y):\n",
    "        X = self.pca.fit_transform(X)\n",
    "        for _x, _y in zip(X, y):\n",
    "            self.qtree.insert(Point(_x[0], _x[1], _y))\n",
    "    \n",
    "    def predict(self, X):\n",
    "        k = self.k\n",
    "        pred = []\n",
    "        # binary search for radius\n",
    "        r_max = 5\n",
    "        r_min = 0\n",
    "        while True:\n",
    "            found_points = []\n",
    "            r = (r_max + r_min) / 2\n",
    "            self.qtree.query_radius((X[0], X[1]), r, found_points)\n",
    "            if len(found_points) > k:\n",
    "                r_max = r\n",
    "            elif len(found_points) < k:\n",
    "                r_min = r\n",
    "            else:\n",
    "                break\n",
    "        for p in found_points:\n",
    "            pred.append(p.payload)\n",
    "        return np.bincount(pred).argmax()\n",
    "    \n",
    "    def score(self, X, y):\n",
    "        X = self.pca.transform(X)\n",
    "        pred = []\n",
    "        for x in X:\n",
    "            pred.append(self.predict(x))\n",
    "        pred = np.array(pred)\n",
    "        y = np.array(y)\n",
    "        return confusion_matrix(y, pred)\n",
    "    \n",
    "    def get_params(self, *args, **kwargs):\n",
    "        return dict()"
   ]
  },
  {
   "cell_type": "code",
   "execution_count": 10,
   "metadata": {},
   "outputs": [],
   "source": [
    "_data = data.sample(frac=1)\n",
    "X = _data[[\n",
    "    'AREA',\n",
    "    'PERIMETER',\n",
    "    'MAJORAXIS',\n",
    "    'ECCENTRICITY',\n",
    "    'CONVEX_AREA',\n",
    "    'EXTENT'\n",
    "    ]]\n",
    "Y = _data.CLASS.map({'Osmancik': 0, 'Cammeo': 1})"
   ]
  },
  {
   "cell_type": "markdown",
   "metadata": {},
   "source": [
    "When k = 1: "
   ]
  },
  {
   "cell_type": "code",
   "execution_count": 11,
   "metadata": {},
   "outputs": [
    {
     "name": "stdout",
     "output_type": "stream",
     "text": [
      "[[386  51]\n",
      " [ 53 272]]\n",
      "[[381  45]\n",
      " [ 47 289]]\n",
      "[[417  34]\n",
      " [ 35 276]]\n",
      "[[377  56]\n",
      " [ 46 283]]\n",
      "[[394  39]\n",
      " [ 49 280]]\n"
     ]
    }
   ],
   "source": [
    "for i in range(0, len(X), int(len(X)/5)):\n",
    "    i = int(i)\n",
    "    x_test = X.iloc[i: i+int(len(X)/5)]\n",
    "    x_train = X.drop(x_test.index)\n",
    "    y_test = Y[x_test.index]\n",
    "    y_train = Y.drop(x_test.index)\n",
    "    knn = KNN(k=1)\n",
    "    knn.fit(x_train, y_train)\n",
    "    print(knn.score(x_test, y_test))\n"
   ]
  },
  {
   "cell_type": "markdown",
   "metadata": {},
   "source": [
    "When k = 5: "
   ]
  },
  {
   "cell_type": "code",
   "execution_count": 12,
   "metadata": {},
   "outputs": [
    {
     "name": "stdout",
     "output_type": "stream",
     "text": [
      "[[399  38]\n",
      " [ 31 294]]\n",
      "[[396  30]\n",
      " [ 28 308]]\n",
      "[[427  24]\n",
      " [ 28 283]]\n",
      "[[402  31]\n",
      " [ 37 292]]\n",
      "[[406  27]\n",
      " [ 47 282]]\n"
     ]
    }
   ],
   "source": [
    "for i in range(0, len(X), int(len(X)/5)):\n",
    "    i = int(i)\n",
    "    x_test = X.iloc[i: i+int(len(X)/5)]\n",
    "    x_train = X.drop(x_test.index)\n",
    "    y_test = Y[x_test.index]\n",
    "    y_train = Y.drop(x_test.index)\n",
    "    knn = KNN(k=5)\n",
    "    knn.fit(x_train, y_train)\n",
    "    print(knn.score(x_test, y_test))\n"
   ]
  },
  {
   "cell_type": "markdown",
   "metadata": {},
   "source": [
    "According to confusion matrix definition, we can see the difference of results between when k = 1 and when k = 5. Citation: https://blog.csdn.net/vesper305/article/details/44927047\n",
    "\n",
    "Obviously, the overall true positive (Osmancik is correctly classified as Osmancik) and true negative (Cammeo is correctly classified as Cammeo) is higher in the results when k = 5 than in the results when k = 1; meanwhile, the overall false positive(Osmancik is wrongly classified as Cammeo) and false negative(Cammeo is wrongly classified as Osmancik) is lower in the results when k = 5 than in the results when k = 1. "
   ]
  },
  {
   "cell_type": "markdown",
   "metadata": {},
   "source": [
    "From the result we can see that the consitency of knn when k=5 is better."
   ]
  },
  {
   "cell_type": "markdown",
   "metadata": {},
   "source": []
  }
 ],
 "metadata": {
  "interpreter": {
   "hash": "e7370f93d1d0cde622a1f8e1c04877d8463912d04d973331ad4851f04de6915a"
  },
  "kernelspec": {
   "display_name": "Python 3",
   "language": "python",
   "name": "python3"
  },
  "language_info": {
   "codemirror_mode": {
    "name": "ipython",
    "version": 3
   },
   "file_extension": ".py",
   "mimetype": "text/x-python",
   "name": "python",
   "nbconvert_exporter": "python",
   "pygments_lexer": "ipython3",
   "version": "3.8.8"
  }
 },
 "nbformat": 4,
 "nbformat_minor": 2
}
