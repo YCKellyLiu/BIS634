{
 "cells": [
  {
   "cell_type": "code",
   "execution_count": 1,
   "id": "f4f9eceb",
   "metadata": {},
   "outputs": [],
   "source": [
    "import numpy as np\n",
    "\n",
    "a = 'tgcatcgagaccctacgtgac'\n",
    "b = 'actagacctagcatcgac'\n",
    "match = 1\n",
    "mismatch = 1\n",
    "gap = 1\n",
    "def best_matrix(a,b,match,mismatch,gap): #a:sequence1, b:sequence2\n",
    "    bm = np.zeros((len(a)+1,len(b)+1),int)#best_matrix\n",
    "    max_score = 0\n",
    "    max_pos = 0\n",
    "    for i in range(len(a)+1):\n",
    "        for j in range(len(b)+1):\n",
    "            if i == 0 or j == 0:\n",
    "                bm[i][j] = 0  #Set the gap in the matrix\n",
    "            else:\n",
    "                match_score = bm[i - 1, j - 1] + (match if a[i - 1] == b[j - 1] else - mismatch)\n",
    "                gap1 = bm[i - 1, j] - gap\n",
    "                gap2 = bm[i, j - 1] - gap\n",
    "                score = max(match_score, gap1, gap2, 0)\n",
    "                bm[i, j] = score\n",
    "                if score > max_score:\n",
    "                    max_score = score\n",
    "                    max_pos = (i, j) #max_position \n",
    "    print(bm)\n",
    "    return(bm,max_pos)\n",
    "\n",
    "#https://tiefenauer.github.io/blog/smith-waterman/         \n",
    "\n",
    "# test: http://rna.informatik.uni-freiburg.de/Teaching/index.jsp?toolName=Smith-Waterman\n"
   ]
  },
  {
   "cell_type": "code",
   "execution_count": 2,
   "id": "a4ee02ba",
   "metadata": {},
   "outputs": [],
   "source": [
    "#diagonal: match\n",
    "#up: gap in b\n",
    "#left: gap in a\n",
    "#https://stackoverflow.com/questions/23400317/smith-waterman-algorithm-to-generate-matrix-in-python\n",
    "def go(bm, x, y): #x,y: position in matrix\n",
    "    diagonal = bm[x-1][y-1]\n",
    "    up = bm[x-1][y]\n",
    "    left = bm[x][y-1]\n",
    "    if diagonal >= up and diagonal >= left:\n",
    "        if diagonal != 0:\n",
    "            return \"diagonal\"\n",
    "        else: \n",
    "            return 0\n",
    "    elif up > diagonal and up >= left:\n",
    "        if up != 0:\n",
    "            return \"up\"\n",
    "        else: \n",
    "            return 0\n",
    "    elif left > diagonal and left > up:\n",
    "        if left != 0:\n",
    "            return \"left\"\n",
    "        else: \n",
    "            return 0\n",
    "    else:\n",
    "        print(\"WRONG\")"
   ]
  },
  {
   "cell_type": "code",
   "execution_count": 3,
   "id": "6bc05e9b",
   "metadata": {},
   "outputs": [],
   "source": [
    "#https://stackoverflow.com/questions/12666494/how-do-i-decide-which-way-to-backtrack-in-the-smith-waterman-algorithm\n",
    "def traceback(a, b, bm, start_pos):\n",
    "    aligned_seq1 = []\n",
    "    aligned_seq2 = []\n",
    "    x, y = start_pos\n",
    "    move = go(bm, x, y)\n",
    "    while move != 0:\n",
    "        if move == \"diagonal\":\n",
    "            aligned_seq1.append(a[x-1])\n",
    "            aligned_seq2.append(b[y-1])\n",
    "            x = x - 1\n",
    "            y = y - 1\n",
    "        elif move == \"up\":\n",
    "            aligned_seq1.append(a[x-1])\n",
    "            aligned_seq2.append('-')\n",
    "            x = x - 1\n",
    "        else: #move left\n",
    "            aligned_seq1.append('-')\n",
    "            aligned_seq2.append(b[y-1])\n",
    "            y = y - 1\n",
    "\n",
    "        move = go(bm, x, y)\n",
    "    \n",
    "    aligned_seq1.append(a[x - 1])\n",
    "    aligned_seq2.append(b[y - 1])\n",
    "\n",
    "    return ''.join(reversed(aligned_seq1)), ''.join(reversed(aligned_seq2))"
   ]
  },
  {
   "cell_type": "code",
   "execution_count": 4,
   "id": "e9169dd1",
   "metadata": {},
   "outputs": [],
   "source": [
    "def align(a,b, match,mismatch,gap):\n",
    "    bm, max_pos = best_matrix(a,b, match,mismatch,gap)\n",
    "    score = bm[max_pos[0]][max_pos[1]]\n",
    "    a, b = traceback(a, b, bm, max_pos)\n",
    "    print (\"seq1 = \", a, \", seq2 = \", b, \", score =\" , score)"
   ]
  },
  {
   "cell_type": "code",
   "execution_count": 256,
   "id": "35e80e64",
   "metadata": {},
   "outputs": [
    {
     "name": "stdout",
     "output_type": "stream",
     "text": [
      "[[0 0 0 0 0 0 0 0 0 0 0 0 0 0 0 0 0 0 0]\n",
      " [0 0 0 1 0 0 0 0 0 1 0 0 0 0 1 0 0 0 0]\n",
      " [0 0 0 0 0 1 0 0 0 0 0 1 0 0 0 0 1 0 0]\n",
      " [0 0 1 0 0 0 0 1 1 0 0 0 2 1 0 1 0 0 1]\n",
      " [0 1 0 0 1 0 1 0 0 0 1 0 1 3 2 1 0 1 0]\n",
      " [0 0 0 1 0 0 0 0 0 1 0 0 0 2 4 3 2 1 0]\n",
      " [0 0 1 0 0 0 0 1 1 0 0 0 1 1 3 5 4 3 2]\n",
      " [0 0 0 0 0 1 0 0 0 0 0 1 0 0 2 4 6 5 4]\n",
      " [0 1 0 0 1 0 2 1 0 0 1 0 0 1 1 3 5 7 6]\n",
      " [0 0 0 0 0 2 1 1 0 0 0 2 1 0 0 2 4 6 6]\n",
      " [0 1 0 0 1 1 3 2 1 0 1 1 1 2 1 1 3 5 5]\n",
      " [0 0 2 1 0 0 2 4 3 2 1 0 2 1 1 2 2 4 6]\n",
      " [0 0 1 1 0 0 1 3 5 4 3 2 1 1 0 2 1 3 5]\n",
      " [0 0 1 0 0 0 0 2 4 4 3 2 3 2 1 1 1 2 4]\n",
      " [0 0 0 2 1 0 0 1 3 5 4 3 2 2 3 2 1 1 3]\n",
      " [0 1 0 1 3 2 1 0 2 4 6 5 4 3 2 2 1 2 2]\n",
      " [0 0 2 1 2 2 1 2 1 3 5 5 6 5 4 3 2 1 3]\n",
      " [0 0 1 1 1 3 2 1 1 2 4 6 5 5 4 3 4 3 2]\n",
      " [0 0 0 2 1 2 2 1 0 2 3 5 5 4 6 5 4 3 2]\n",
      " [0 0 0 1 1 2 1 1 0 1 2 4 4 4 5 5 6 5 4]\n",
      " [0 1 0 0 2 1 3 2 1 0 2 3 3 5 4 4 5 7 6]\n",
      " [0 0 2 1 1 1 2 4 3 2 1 2 4 4 4 5 4 6 8]]\n",
      "seq1 =  agacccta-cgt-gac , seq2 =  agacc-tagcatcgac , score = 8\n"
     ]
    }
   ],
   "source": [
    "align('tgcatcgagaccctacgtgac', 'actagacctagcatcgac', 1, 1, 1)"
   ]
  },
  {
   "cell_type": "code",
   "execution_count": 257,
   "id": "fe6343da",
   "metadata": {},
   "outputs": [
    {
     "name": "stdout",
     "output_type": "stream",
     "text": [
      "[[0 0 0 0 0 0 0 0 0 0 0 0 0 0 0 0 0 0 0]\n",
      " [0 0 0 1 0 0 0 0 0 1 0 0 0 0 1 0 0 0 0]\n",
      " [0 0 0 0 0 1 0 0 0 0 0 1 0 0 0 0 1 0 0]\n",
      " [0 0 1 0 0 0 0 1 1 0 0 0 2 0 0 1 0 0 1]\n",
      " [0 1 0 0 1 0 1 0 0 0 1 0 0 3 1 0 0 1 0]\n",
      " [0 0 0 1 0 0 0 0 0 1 0 0 0 1 4 2 0 0 0]\n",
      " [0 0 1 0 0 0 0 1 1 0 0 0 1 0 2 5 3 1 1]\n",
      " [0 0 0 0 0 1 0 0 0 0 0 1 0 0 0 3 6 4 2]\n",
      " [0 1 0 0 1 0 2 0 0 0 1 0 0 1 0 1 4 7 5]\n",
      " [0 0 0 0 0 2 0 1 0 0 0 2 0 0 0 0 2 5 6]\n",
      " [0 1 0 0 1 0 3 1 0 0 1 0 1 1 0 0 0 3 4]\n",
      " [0 0 2 0 0 0 1 4 2 0 0 0 1 0 0 1 0 1 4]\n",
      " [0 0 1 1 0 0 0 2 5 3 1 0 1 0 0 1 0 0 2]\n",
      " [0 0 1 0 0 0 0 1 3 4 2 0 1 0 0 1 0 0 1]\n",
      " [0 0 0 2 0 0 0 0 1 4 3 1 0 0 1 0 0 0 0]\n",
      " [0 1 0 0 3 1 1 0 0 2 5 3 1 1 0 0 0 1 0]\n",
      " [0 0 2 0 1 2 0 2 1 0 3 4 4 2 0 1 0 0 2]\n",
      " [0 0 0 1 0 2 1 0 1 0 1 4 3 3 1 0 2 0 0]\n",
      " [0 0 0 1 0 0 1 0 0 2 0 2 3 2 4 2 0 1 0]\n",
      " [0 0 0 0 0 1 0 0 0 0 1 1 1 2 2 3 3 1 0]\n",
      " [0 1 0 0 1 0 2 0 0 0 1 0 0 2 1 1 2 4 2]\n",
      " [0 0 2 0 0 0 0 3 1 0 0 0 1 0 1 2 0 2 5]]\n",
      "seq1 =  gcatcga , seq2 =  gcatcga , score = 7\n"
     ]
    }
   ],
   "source": [
    "align('tgcatcgagaccctacgtgac', 'actagacctagcatcgac', 1, 1, 2)"
   ]
  },
  {
   "cell_type": "code",
   "execution_count": 9,
   "id": "970dc762",
   "metadata": {},
   "outputs": [
    {
     "name": "stdout",
     "output_type": "stream",
     "text": [
      "[[ 0  0  0  0  0  0  0  0  0  0  0  0  0  0  0  0  0]\n",
      " [ 0  0  0  2  0  0  0  0  0  2  0  0  0  0  2  0  0]\n",
      " [ 0  0  0  0  0  2  0  0  0  0  0  2  0  0  0  0  2]\n",
      " [ 0  0  2  0  0  0  0  2  2  0  0  0  4  2  0  2  0]\n",
      " [ 0  2  0  0  2  0  2  0  0  0  2  0  2  6  4  2  0]\n",
      " [ 0  0  0  2  0  0  0  0  0  2  0  0  0  4  8  6  4]\n",
      " [ 0  0  2  0  0  0  0  2  2  0  0  0  2  2  6 10  8]\n",
      " [ 0  0  0  0  0  2  0  0  0  0  0  2  0  0  4  8 12]\n",
      " [ 0  2  0  0  2  0  4  2  0  0  2  0  0  2  2  6 10]\n",
      " [ 0  0  0  0  0  4  2  2  0  0  0  4  2  0  0  4  8]\n",
      " [ 0  2  0  0  2  2  6  4  2  0  2  2  2  4  2  2  6]\n",
      " [ 0  2  0  0  2  0  4  4  2  0  2  0  0  4  2  0  4]\n",
      " [ 0  0  4  2  0  0  2  6  6  4  2  0  2  2  2  4  2]\n",
      " [ 0  0  2  6  4  2  0  4  4  8  6  4  2  0  4  2  2]]\n",
      "seq1 =  gcatcg , seq2 =  gcatcg , score = 12\n"
     ]
    }
   ],
   "source": [
    "align('tgcatcgagaact', 'actagacctagcatcg',2, 2, 2)"
   ]
  },
  {
   "cell_type": "code",
   "execution_count": null,
   "id": "5bef6f7b",
   "metadata": {},
   "outputs": [],
   "source": []
  }
 ],
 "metadata": {
  "kernelspec": {
   "display_name": "Python 3",
   "language": "python",
   "name": "python3"
  },
  "language_info": {
   "codemirror_mode": {
    "name": "ipython",
    "version": 3
   },
   "file_extension": ".py",
   "mimetype": "text/x-python",
   "name": "python",
   "nbconvert_exporter": "python",
   "pygments_lexer": "ipython3",
   "version": "3.8.8"
  }
 },
 "nbformat": 4,
 "nbformat_minor": 5
}
