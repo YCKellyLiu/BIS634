{
 "cells": [
  {
   "cell_type": "code",
   "execution_count": 1,
   "source": [
    "from Bio import SeqIO\n",
    "human_genome = SeqIO.parse(\"GCA_000001405.28_GRCh38.p13_genomic.fna\", \"fasta\")"
   ],
   "outputs": [],
   "metadata": {}
  },
  {
   "cell_type": "code",
   "execution_count": 5,
   "source": [
    "for chromosome in human_genome:\n",
    "    if chromosome.name == \"CM000664.2\":\n",
    "        sequence = str(chromosome.seq).lower()\n",
    "        sequence2 = str(chromosome.seq).lower().encode('utf8')"
   ],
   "outputs": [],
   "metadata": {}
  },
  {
   "cell_type": "code",
   "execution_count": 11,
   "source": [
    "count = 0\n",
    "for i in range (0,len(sequence)-15):\n",
    "    base_chromosome = sequence[i:i+15] #I loop all the 15-mers\n",
    "    if base_chromosome.count('n')<=2: #Total subsequences that do not contain more than 2 Ns\n",
    "        count+=1\n",
    "print(f'{count} subsequences do not contain more than 2Ns.')"
   ],
   "outputs": [
    {
     "output_type": "stream",
     "name": "stdout",
     "text": [
      "240548031 subsequences do not contain more than 2Ns.\n"
     ]
    }
   ],
   "metadata": {}
  },
  {
   "cell_type": "markdown",
   "source": [
    "Using 100 hash functions from the family below and a single pass through the sequences, estimate the number of distinct 15-mers in the reference genome's chromosome 2 using the big data method for estimating distinct counts discussed in class."
   ],
   "metadata": {}
  },
  {
   "cell_type": "code",
   "execution_count": 7,
   "source": [
    "p = 2_549_536_629_329\n",
    "bits_48 = 2 ** 48 - 1\n",
    "scale = 0x07ffffffff\n",
    "from hashlib import sha256\n",
    "def get_ath_hash(a):\n",
    "    def my_hash(subseq):\n",
    "        return (((int(sha256(subseq).hexdigest(), 16) % bits_48) * a) % p) & scale\n",
    "    return my_hash"
   ],
   "outputs": [],
   "metadata": {}
  },
  {
   "cell_type": "markdown",
   "source": [
    "Use 1 hash function. "
   ],
   "metadata": {}
  },
  {
   "cell_type": "code",
   "execution_count": 29,
   "source": [
    "first_hash = get_ath_hash(1)\n",
    "first_minh=first_hash(sequence2[0:15]) #find the minh in first sequence[0:15]\n",
    "for i in range(0,len(sequence2)-15): #for loop all the sequence \n",
    "    h = first_hash(sequence2[i:i+15]) # for each minh, compare with the minh in sequence [0:15]\n",
    "    if first_minh>h:                  # to find the first minh in the whole sequence \n",
    "        first_minh = h\n",
    "\n",
    "first_minh"
   ],
   "outputs": [
    {
     "output_type": "execute_result",
     "data": {
      "text/plain": [
       "520"
      ]
     },
     "metadata": {},
     "execution_count": 29
    }
   ],
   "metadata": {}
  },
  {
   "cell_type": "code",
   "execution_count": 8,
   "source": [
    "#Use min_h / scale 0x07ffffffff \n",
    "de = 520/0x07ffffffff\n",
    "m = (1/de)-1\n",
    "print(m,round(m))"
   ],
   "outputs": [
    {
     "output_type": "stream",
     "name": "stdout",
     "text": [
      "66076418.93653846 66076419\n"
     ]
    }
   ],
   "metadata": {}
  },
  {
   "cell_type": "markdown",
   "source": [
    "Use 100 hash function."
   ],
   "metadata": {}
  },
  {
   "cell_type": "code",
   "execution_count": 30,
   "source": [
    "hundred_hash = get_ath_hash(100)\n",
    "hundred_minh=first_hash(sequence2[0:15])\n",
    "for i in range(0,len(sequence2)-15):\n",
    "    h = hundred_hash(sequence2[i:i+15])\n",
    "    if hundred_minh>h:\n",
    "        hundred_minh = h\n",
    "\n",
    "hundred_minh"
   ],
   "outputs": [
    {
     "output_type": "execute_result",
     "data": {
      "text/plain": [
       "80"
      ]
     },
     "metadata": {},
     "execution_count": 30
    }
   ],
   "metadata": {}
  },
  {
   "cell_type": "code",
   "execution_count": 9,
   "source": [
    "de = 80/0x07ffffffff\n",
    "m100 = (1/de)-1\n",
    "print(m100,round(m100))"
   ],
   "outputs": [
    {
     "output_type": "stream",
     "name": "stdout",
     "text": [
      "429496728.5875 429496729\n"
     ]
    }
   ],
   "metadata": {}
  },
  {
   "cell_type": "markdown",
   "source": [
    "How does your estimate change for different-sized subsets of these hash functions, e.g. the one with a=1 only, or a=1, 2, .., 10, or a=1, 2, ...100, etc?"
   ],
   "metadata": {}
  },
  {
   "cell_type": "code",
   "execution_count": 33,
   "source": [
    "import statistics\n",
    "def min_h(a):\n",
    "    minh_list = [] #store all the hashes results. \n",
    "    for i in range(1,a+1): \n",
    "        hash1 = get_ath_hash(i) #similar function to get the minh \n",
    "        minh = hash1(sequence2[0:15])\n",
    "        for k in range(0,len(sequence2)-15):\n",
    "            h = hash1(sequence2[k:k+15])\n",
    "            if minh>h:\n",
    "                minh = h\n",
    "        \n",
    "        minh_list.append(minh)\n",
    "    #print(minh_list)\n",
    "    return statistics.median(minh_list) #get the median of the hashes. "
   ],
   "outputs": [],
   "metadata": {}
  },
  {
   "cell_type": "markdown",
   "source": [
    "a = 1"
   ],
   "metadata": {}
  },
  {
   "cell_type": "code",
   "execution_count": 34,
   "source": [
    "min_h(1)"
   ],
   "outputs": [
    {
     "output_type": "stream",
     "name": "stdout",
     "text": [
      "[520]\n"
     ]
    },
    {
     "output_type": "execute_result",
     "data": {
      "text/plain": [
       "520"
      ]
     },
     "metadata": {},
     "execution_count": 34
    }
   ],
   "metadata": {}
  },
  {
   "cell_type": "code",
   "execution_count": 10,
   "source": [
    "#Use min_h / scale 0x07ffffffff = minh\n",
    "de1 = 520/0x07ffffffff\n",
    "m1 = (1/de1)-1\n",
    "m1\n",
    "print(m1,round(m1))"
   ],
   "outputs": [
    {
     "output_type": "stream",
     "name": "stdout",
     "text": [
      "66076418.93653846 66076419\n"
     ]
    }
   ],
   "metadata": {}
  },
  {
   "cell_type": "markdown",
   "source": [
    "a=10"
   ],
   "metadata": {}
  },
  {
   "cell_type": "code",
   "execution_count": 35,
   "source": [
    "min_h(10)"
   ],
   "outputs": [
    {
     "output_type": "stream",
     "name": "stdout",
     "text": [
      "[520, 177, 28, 354, 64, 318, 607, 63, 25, 417]\n"
     ]
    },
    {
     "output_type": "execute_result",
     "data": {
      "text/plain": [
       "247.5"
      ]
     },
     "metadata": {},
     "execution_count": 35
    }
   ],
   "metadata": {}
  },
  {
   "cell_type": "code",
   "execution_count": 11,
   "source": [
    "de2 = 247.5/0x07ffffffff\n",
    "m10=(1/de2)-1\n",
    "print(m10,round(m10))"
   ],
   "outputs": [
    {
     "output_type": "stream",
     "name": "stdout",
     "text": [
      "138827224.72525254 138827225\n"
     ]
    }
   ],
   "metadata": {}
  },
  {
   "cell_type": "markdown",
   "source": [
    "a=100"
   ],
   "metadata": {}
  },
  {
   "cell_type": "code",
   "execution_count": 42,
   "source": [
    "min_h(100)"
   ],
   "outputs": [
    {
     "output_type": "stream",
     "name": "stdout",
     "text": [
      "[520, 177, 28, 354, 64, 318, 607, 63, 25, 417, 913, 444, 300, 46, 78, 126, 910, 124, 83, 29, 94, 699, 227, 131, 170, 82, 88, 123, 230, 98, 893, 252, 629, 231, 267, 237, 28, 585, 85, 58, 65, 124, 165, 96, 447, 297, 204, 38, 121, 340, 110, 303, 41, 34, 3, 245, 32, 650, 14, 87, 315, 324, 100, 884, 704, 593, 14, 87, 51, 287, 507, 393, 836, 56, 459, 453, 274, 170, 243, 116, 241, 778, 340, 171, 58, 168, 105, 433, 40, 39, 4, 134, 180, 408, 494, 76, 368, 129, 319, 80]\n"
     ]
    },
    {
     "output_type": "execute_result",
     "data": {
      "text/plain": [
       "170.5"
      ]
     },
     "metadata": {},
     "execution_count": 42
    }
   ],
   "metadata": {}
  },
  {
   "cell_type": "code",
   "execution_count": 12,
   "source": [
    "de2 = 170.5/0x07ffffffff\n",
    "m100=(1/de2)-1\n",
    "print(m100,round(m100))"
   ],
   "outputs": [
    {
     "output_type": "stream",
     "name": "stdout",
     "text": [
      "201523391.1818182 201523391\n"
     ]
    }
   ],
   "metadata": {}
  }
 ],
 "metadata": {
  "orig_nbformat": 4,
  "language_info": {
   "name": "python",
   "version": "3.9.0",
   "mimetype": "text/x-python",
   "codemirror_mode": {
    "name": "ipython",
    "version": 3
   },
   "pygments_lexer": "ipython3",
   "nbconvert_exporter": "python",
   "file_extension": ".py"
  },
  "kernelspec": {
   "name": "python3",
   "display_name": "Python 3.9.0 64-bit"
  },
  "interpreter": {
   "hash": "aee8b7b246df8f9039afb4144a1f6fd8d2ca17a180786b69acc140d282b71a49"
  }
 },
 "nbformat": 4,
 "nbformat_minor": 2
}