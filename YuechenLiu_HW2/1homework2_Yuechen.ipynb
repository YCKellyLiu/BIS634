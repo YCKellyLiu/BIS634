{
 "cells": [
  {
   "cell_type": "code",
   "execution_count": 1,
   "source": [
    "from xml.dom import minidom\n",
    "import pandas as pd\n"
   ],
   "outputs": [],
   "metadata": {}
  },
  {
   "cell_type": "code",
   "execution_count": 2,
   "source": [
    "file = minidom.parse(\"hw2-patients.xml\")"
   ],
   "outputs": [],
   "metadata": {}
  },
  {
   "cell_type": "code",
   "execution_count": 3,
   "source": [
    "#Citation: https://www.studytonight.com/python-howtos/how-to-read-xml-file-in-python"
   ],
   "outputs": [],
   "metadata": {}
  },
  {
   "cell_type": "code",
   "execution_count": 4,
   "source": [
    "models = file.getElementsByTagName('patient')"
   ],
   "outputs": [],
   "metadata": {}
  },
  {
   "cell_type": "code",
   "execution_count": 5,
   "source": [
    "#print(models[173886].attributes['age'].value)"
   ],
   "outputs": [],
   "metadata": {}
  },
  {
   "cell_type": "code",
   "execution_count": 6,
   "source": [
    "age = []\n",
    "for i in models:\n",
    "    age.append(float(i.attributes['age'].value))\n",
    "    "
   ],
   "outputs": [],
   "metadata": {}
  },
  {
   "cell_type": "code",
   "execution_count": 7,
   "source": [
    "import matplotlib.pyplot as plt"
   ],
   "outputs": [],
   "metadata": {}
  },
  {
   "cell_type": "code",
   "execution_count": 8,
   "source": [
    "plt.hist(age,bins=50,edgecolor = \"black\")\n",
    "plt.xlabel('age')\n",
    "plt.ylabel('numbers')"
   ],
   "outputs": [
    {
     "output_type": "execute_result",
     "data": {
      "text/plain": [
       "Text(0, 0.5, 'numbers')"
      ]
     },
     "metadata": {},
     "execution_count": 8
    },
    {
     "output_type": "display_data",
     "data": {
      "image/png": "[encoded data removed]",
      "text/plain": [
       "<Figure size 432x288 with 1 Axes>"
      ]
     },
     "metadata": {
      "needs_background": "light"
     }
    }
   ],
   "metadata": {}
  },
  {
   "cell_type": "code",
   "execution_count": 9,
   "source": [
    "# Use set() to eliminate duplicated elements, because a set cannot have duplicated elements. If it returns TRUE,\n",
    "#which means there is no duplicate in the age list,in turn no patients share the same age.\n",
    "#Citation: https://stackoverflow.com/questions/1541797/how-do-i-check-if-there-are-duplicates-in-a-flat-list\n",
    "len(age)==len(set(age))"
   ],
   "outputs": [
    {
     "output_type": "execute_result",
     "data": {
      "text/plain": [
       "True"
      ]
     },
     "metadata": {},
     "execution_count": 9
    }
   ],
   "metadata": {}
  },
  {
   "cell_type": "code",
   "execution_count": 11,
   "source": [
    "#print(models[1].attributes['gender'].value)"
   ],
   "outputs": [],
   "metadata": {}
  },
  {
   "cell_type": "code",
   "execution_count": 12,
   "source": [
    "sex = []\n",
    "for i in models:\n",
    "    sex.append(i.attributes['gender'].value)"
   ],
   "outputs": [],
   "metadata": {}
  },
  {
   "cell_type": "code",
   "execution_count": 13,
   "source": [
    "plt.hist(sex,bins=5,edgecolor = \"black\")\n",
    "plt.xlabel('gender')\n",
    "plt.ylabel('numbers')"
   ],
   "outputs": [
    {
     "output_type": "execute_result",
     "data": {
      "text/plain": [
       "Text(0, 0.5, 'numbers')"
      ]
     },
     "metadata": {},
     "execution_count": 13
    },
    {
     "output_type": "display_data",
     "data": {
      "image/png": "[encoded data removed]",
      "text/plain": [
       "<Figure size 432x288 with 1 Axes>"
      ]
     },
     "metadata": {
      "needs_background": "light"
     }
    }
   ],
   "metadata": {}
  },
  {
   "cell_type": "code",
   "execution_count": 13,
   "source": [
    "#The provider uses string to encode gender into three categories: 'female','male', and 'unknown'."
   ],
   "outputs": [],
   "metadata": {}
  },
  {
   "cell_type": "code",
   "execution_count": 14,
   "source": [
    "#Sort the patients by age and store the result in a list.\n",
    "name = []\n",
    "for i in models:\n",
    "    name.append(i.attributes['name'].value)\n",
    "    "
   ],
   "outputs": [],
   "metadata": {}
  },
  {
   "cell_type": "code",
   "execution_count": 15,
   "source": [
    "#The oldest person is:\n",
    "patient = list(zip(age,name))"
   ],
   "outputs": [],
   "metadata": {}
  },
  {
   "cell_type": "code",
   "execution_count": 16,
   "source": [
    "sorted_patient = sorted(patient, key=lambda tup: tup[0])\n",
    "sorted_patient[-1][1]"
   ],
   "outputs": [
    {
     "output_type": "execute_result",
     "data": {
      "text/plain": [
       "'Monica Caponera'"
      ]
     },
     "metadata": {},
     "execution_count": 16
    }
   ],
   "metadata": {}
  },
  {
   "cell_type": "code",
   "execution_count": 50,
   "source": [
    "age_sorted = sorted(age)"
   ],
   "outputs": [],
   "metadata": {}
  },
  {
   "cell_type": "code",
   "execution_count": 18,
   "source": [
    "#dentify the patient who is 41.5 years old\n",
    "#https://towardsdatascience.com/understanding-time-complexity-with-python-examples-2bda6e8158a7\n",
    "def binary_search(data, value):\n",
    "    n = len(data)\n",
    "    left = 0\n",
    "    right = n - 1\n",
    "    while left <= right:\n",
    "        middle = (left + right) // 2\n",
    "        if value < data[middle]:\n",
    "            right = middle - 1\n",
    "        elif value > data[middle]:\n",
    "            left = middle + 1\n",
    "        else:\n",
    "            return middle\n",
    "    raise ValueError('Value is not in the list')"
   ],
   "outputs": [],
   "metadata": {}
  },
  {
   "cell_type": "code",
   "execution_count": 51,
   "source": [
    "binary_search(age_sorted,41.5)"
   ],
   "outputs": [
    {
     "output_type": "execute_result",
     "data": {
      "text/plain": [
       "173886"
      ]
     },
     "metadata": {},
     "execution_count": 51
    }
   ],
   "metadata": {}
  },
  {
   "cell_type": "code",
   "execution_count": 20,
   "source": [
    "sorted_patient[173886][1]"
   ],
   "outputs": [
    {
     "output_type": "execute_result",
     "data": {
      "text/plain": [
       "'John Braswell'"
      ]
     },
     "metadata": {},
     "execution_count": 20
    }
   ],
   "metadata": {}
  },
  {
   "cell_type": "code",
   "execution_count": 21,
   "source": [
    "#Find the number of patients who are at least 41.5 years old\n",
    "len(sorted_patient)-173886"
   ],
   "outputs": [
    {
     "output_type": "execute_result",
     "data": {
      "text/plain": [
       "150471"
      ]
     },
     "metadata": {},
     "execution_count": 21
    }
   ],
   "metadata": {}
  },
  {
   "cell_type": "code",
   "execution_count": 22,
   "source": [
    "#Generalizing the above, write a function that in O(log n) time returns \n",
    "#the number of patients who are at least low_age years old but are strictly \n",
    "#less than high_age years old. "
   ],
   "outputs": [],
   "metadata": {}
  },
  {
   "cell_type": "code",
   "execution_count": 23,
   "source": [
    "def bisection(data, value):\n",
    "    n = len(data)\n",
    "    left = 0\n",
    "    right = n - 1\n",
    "    \n",
    "    while left < right:\n",
    "        middle = (left + right) // 2\n",
    "        if value < data[middle]:\n",
    "            right = middle \n",
    "        else:\n",
    "            left = middle + 1\n",
    "    return middle\n",
    "    raise ValueError('Value is not in the list')\n",
    "    \n",
    "def final(data,high,low):\n",
    "    if high > low:\n",
    "        return bisection(age_sorted,high)-bisection(age_sorted,low)\n",
    "    else:\n",
    "        return False"
   ],
   "outputs": [],
   "metadata": {}
  },
  {
   "cell_type": "code",
   "execution_count": 24,
   "source": [
    "#Test the function "
   ],
   "outputs": [],
   "metadata": {}
  },
  {
   "cell_type": "code",
   "execution_count": 25,
   "source": [
    "final(age_sorted,66,22)"
   ],
   "outputs": [
    {
     "output_type": "execute_result",
     "data": {
      "text/plain": [
       "184198"
      ]
     },
     "metadata": {},
     "execution_count": 25
    }
   ],
   "metadata": {}
  },
  {
   "cell_type": "code",
   "execution_count": 26,
   "source": [
    "#How to prove? \n",
    "#If we use for loop to count how many patients in the age range, the result will be the same as using bisection method."
   ],
   "outputs": [],
   "metadata": {}
  },
  {
   "cell_type": "code",
   "execution_count": 27,
   "source": [
    "def for_loop_test(list,high,low):\n",
    "    # Count is the number of patients who are in the age range.\n",
    "    count = 0\n",
    "    # use for loop to traverse the elements in the list.\n",
    "    for i in range(0,len(list)):\n",
    "        if list[i][0] < high and list[i][0] >= low:\n",
    "            count += 1\n",
    "    return count"
   ],
   "outputs": [],
   "metadata": {}
  },
  {
   "cell_type": "code",
   "execution_count": 28,
   "source": [
    "for_loop_test(patient,66,22)"
   ],
   "outputs": [
    {
     "output_type": "execute_result",
     "data": {
      "text/plain": [
       "184198"
      ]
     },
     "metadata": {},
     "execution_count": 28
    }
   ],
   "metadata": {}
  },
  {
   "cell_type": "code",
   "execution_count": 29,
   "source": [
    "#The number of patients who are at least 22 years old but are strictly less than 66 years old is 184198."
   ],
   "outputs": [],
   "metadata": {}
  },
  {
   "cell_type": "code",
   "execution_count": 29,
   "source": [
    "#But when we calculate the time, using bisection function is much faster than for loop.\n",
    "#https://www.cnblogs.com/yucen/p/9912006.html"
   ],
   "outputs": [],
   "metadata": {}
  },
  {
   "cell_type": "code",
   "execution_count": 129,
   "source": [
    "import time\n",
    "start = time.time()\n",
    "for_loop_age(patient,66,22)\n",
    "end = time.time()\n",
    "print (end - start)\n"
   ],
   "outputs": [
    {
     "output_type": "stream",
     "name": "stdout",
     "text": [
      "0.5042462348937988\n"
     ]
    }
   ],
   "metadata": {}
  },
  {
   "cell_type": "code",
   "execution_count": 130,
   "source": [
    "start = time.time()\n",
    "final(age_sorted,66,22)\n",
    "end = time.time()\n",
    "print (end - start)"
   ],
   "outputs": [
    {
     "output_type": "stream",
     "name": "stdout",
     "text": [
      "0.0031239986419677734\n"
     ]
    }
   ],
   "metadata": {}
  },
  {
   "cell_type": "code",
   "execution_count": 32,
   "source": [
    "#Returns both the total number of patients in an age range AND the number of males in the age range, "
   ],
   "outputs": [],
   "metadata": {}
  },
  {
   "cell_type": "code",
   "execution_count": 66,
   "source": [
    "def bisection2(data, value):\n",
    "    n = len(data)\n",
    "    left = 0\n",
    "    right = n - 1\n",
    "    \n",
    "    while left < right:\n",
    "        middle = (left + right) // 2\n",
    "        if value < data[middle][0]:\n",
    "            right = middle \n",
    "        else:\n",
    "            left = middle + 1\n",
    "    return middle\n",
    "    raise ValueError('Value is not in the list')"
   ],
   "outputs": [],
   "metadata": {}
  },
  {
   "cell_type": "code",
   "execution_count": 67,
   "source": [
    "patient2 = list(zip(age,sex))\n",
    "patient2_sorted  = sorted(patient2, key = lambda tup: tup[0])\n",
    "male = []\n",
    "for i in range(len(patient2_sorted)):\n",
    "    if patient2_sorted[i][1] == 'male':\n",
    "        male.append(patient2_sorted[i])"
   ],
   "outputs": [],
   "metadata": {}
  },
  {
   "cell_type": "code",
   "execution_count": 68,
   "source": [
    "def count_male_and_total(data,data2,high,low):\n",
    "    if high > low:\n",
    "        return bisection(data,high)-bisection(data,low),bisection2(data2,high)-bisection2(data2,low)\n",
    "    else:\n",
    "        return False"
   ],
   "outputs": [],
   "metadata": {}
  },
  {
   "cell_type": "code",
   "execution_count": 69,
   "source": [
    "count_male_and_total(age_sorted,male,66,22)"
   ],
   "outputs": [
    {
     "output_type": "execute_result",
     "data": {
      "text/plain": [
       "(184198, 90378)"
      ]
     },
     "metadata": {},
     "execution_count": 69
    }
   ],
   "metadata": {}
  },
  {
   "cell_type": "code",
   "execution_count": null,
   "source": [
    "#The total number of patients betweeen 22 years old and 66 years old is 184198 AND the number of males in the age range\n",
    "#is 90378."
   ],
   "outputs": [],
   "metadata": {}
  },
  {
   "cell_type": "code",
   "execution_count": null,
   "source": [
    "#Prove\n",
    "#If we use for loop to count how many males in the age range, the result will be the same as using bisection method.\n",
    "#Use the same function:for_loop_test"
   ],
   "outputs": [],
   "metadata": {
    "scrolled": true
   }
  },
  {
   "cell_type": "code",
   "execution_count": 70,
   "source": [
    "for_loop_test(male,66,22)"
   ],
   "outputs": [
    {
     "output_type": "execute_result",
     "data": {
      "text/plain": [
       "90378"
      ]
     },
     "metadata": {},
     "execution_count": 70
    }
   ],
   "metadata": {}
  },
  {
   "cell_type": "code",
   "execution_count": null,
   "source": [
    "#Describe how (you don't need to implement this, unless that's easier than writing it out) \n",
    "#you could find the second oldest person's name in O(n) time. (2 points). \n",
    "#Discuss when it might be advantageous to sort and when it is better to just use the O(n) solution. "
   ],
   "outputs": [],
   "metadata": {}
  },
  {
   "cell_type": "code",
   "execution_count": 35,
   "source": [
    "#To draw the secondary oldest patient, we need find the oldest patient, which needs O(n) time, and then remove this patient(tuple)\n",
    "#from the zip_list, which is O(1); and now use the \n",
    "#function to find the oldest patient,which needs O(n). The total time consums will be O(n)+O(1)+O(n)=O(n)"
   ],
   "outputs": [],
   "metadata": {}
  },
  {
   "cell_type": "code",
   "execution_count": 36,
   "source": [
    "#Advantage\n",
    "#Sort: O(n log n) time, when you have to find different elements in a list many times, you only cost nlogn + n time; sort it first will be great; \n",
    "#Not sort: O(n) solution, when you just want to find once "
   ],
   "outputs": [],
   "metadata": {}
  },
  {
   "cell_type": "code",
   "execution_count": null,
   "source": [
    "#For an extra 2 points: explain how the answer to the question about multiple patients having the same age affects the solution to \n",
    "#the rest of the problem."
   ],
   "outputs": [],
   "metadata": {}
  },
  {
   "cell_type": "code",
   "execution_count": null,
   "source": [
    "#If there are multiple patients having the same age, we can still use binary search, but the search time will be different.\n",
    "#For example, if multiple patients are 41.5 years old, using binary search can find one 41.5, and then traverse left or right to find the boundary\n",
    "#of all \"41.5\" numbers. The total time will be O(n); even in the worst situation that all numbers are the same, it will\n",
    "#cost n/2 time, still the O(n)time."
   ],
   "outputs": [],
   "metadata": {}
  }
 ],
 "metadata": {
  "kernelspec": {
   "display_name": "Python 3",
   "language": "python",
   "name": "python3"
  },
  "language_info": {
   "codemirror_mode": {
    "name": "ipython",
    "version": 3
   },
   "file_extension": ".py",
   "mimetype": "text/x-python",
   "name": "python",
   "nbconvert_exporter": "python",
   "pygments_lexer": "ipython3",
   "version": "3.8.5"
  }
 },
 "nbformat": 4,
 "nbformat_minor": 4
}