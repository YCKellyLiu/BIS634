{
 "cells": [
  {
   "cell_type": "code",
   "execution_count": 1,
   "metadata": {},
   "outputs": [],
   "source": [
    "def normal_temp(normal_temp):\n",
    "    def temp_tester(temperature):\n",
    "        if normal_temp -1 <= temperature <= normal_temp +1: \n",
    "            print(True)\n",
    "        else: \n",
    "            print (False)\n",
    "    return temp_tester\n",
    "\n",
    "human_tester = normal_temp(37)\n",
    "chicken_tester = normal_temp(41.1)"
   ]
  },
  {
   "cell_type": "code",
   "execution_count": 2,
   "metadata": {},
   "outputs": [
    {
     "name": "stdout",
     "output_type": "stream",
     "text": [
      "True\n",
      "False\n",
      "False\n",
      "False\n",
      "False\n"
     ]
    }
   ],
   "source": [
    "chicken_tester(42) # True -- i.e. not a fever for a chicken\n",
    "human_tester(42)   # False -- this would be a severe fever for a human\n",
    "chicken_tester(43) # False\n",
    "human_tester(35)   # False -- too low\n",
    "human_tester(98.6) # False -- normal in degrees F but our reference temp was in degrees C\n"
   ]
  }
 ],
 "metadata": {
  "kernelspec": {
   "display_name": "Python 3",
   "language": "python",
   "name": "python3"
  },
  "language_info": {
   "codemirror_mode": {
    "name": "ipython",
    "version": 3
   },
   "file_extension": ".py",
   "mimetype": "text/x-python",
   "name": "python",
   "nbconvert_exporter": "python",
   "pygments_lexer": "ipython3",
   "version": "3.8.5"
  }
 },
 "nbformat": 4,
 "nbformat_minor": 4
}
